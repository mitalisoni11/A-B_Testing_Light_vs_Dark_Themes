{
 "cells": [
  {
   "cell_type": "markdown",
   "id": "b935c47f-9da2-4171-87a3-8ec383869728",
   "metadata": {},
   "source": [
    "# Introduction\n",
    "\n",
    "An online bookstore is looking to optimize its website design to improve user engagement and ultimately increase book purchases. The website currently offers two themes for its users: “Light Theme” and “Dark Theme.” We shall conduct an A/B test on the data to determine which theme leads to better user engagement and higher conversion rates for book purchases."
   ]
  },
  {
   "cell_type": "markdown",
   "id": "8bc558b1-3b15-4aa7-ada3-9348eaa8e289",
   "metadata": {},
   "source": [
    "# EDA"
   ]
  },
  {
   "cell_type": "code",
   "execution_count": 69,
   "id": "9fffff60-e42d-4d80-9729-5492a5cb8bce",
   "metadata": {},
   "outputs": [],
   "source": [
    "import pandas as pd\n",
    "from scipy.stats import ttest_ind\n",
    "import matplotlib.pyplot as plt\n",
    "import seaborn as sns"
   ]
  },
  {
   "cell_type": "code",
   "execution_count": 61,
   "id": "50d9f646-99bc-48ec-a622-33c9937f5596",
   "metadata": {},
   "outputs": [],
   "source": [
    "df = pd.read_csv('website_ab_test.csv')"
   ]
  },
  {
   "cell_type": "code",
   "execution_count": 8,
   "id": "db4f8880-107b-4183-9081-26de5d098e04",
   "metadata": {},
   "outputs": [
    {
     "data": {
      "text/html": [
       "<div>\n",
       "<style scoped>\n",
       "    .dataframe tbody tr th:only-of-type {\n",
       "        vertical-align: middle;\n",
       "    }\n",
       "\n",
       "    .dataframe tbody tr th {\n",
       "        vertical-align: top;\n",
       "    }\n",
       "\n",
       "    .dataframe thead th {\n",
       "        text-align: right;\n",
       "    }\n",
       "</style>\n",
       "<table border=\"1\" class=\"dataframe\">\n",
       "  <thead>\n",
       "    <tr style=\"text-align: right;\">\n",
       "      <th></th>\n",
       "      <th>Theme</th>\n",
       "      <th>Click Through Rate</th>\n",
       "      <th>Conversion Rate</th>\n",
       "      <th>Bounce Rate</th>\n",
       "      <th>Scroll_Depth</th>\n",
       "      <th>Age</th>\n",
       "      <th>Location</th>\n",
       "      <th>Session_Duration</th>\n",
       "      <th>Purchases</th>\n",
       "      <th>Added_to_Cart</th>\n",
       "    </tr>\n",
       "  </thead>\n",
       "  <tbody>\n",
       "    <tr>\n",
       "      <th>0</th>\n",
       "      <td>Light Theme</td>\n",
       "      <td>0.054920</td>\n",
       "      <td>0.282367</td>\n",
       "      <td>0.405085</td>\n",
       "      <td>72.489458</td>\n",
       "      <td>25</td>\n",
       "      <td>Chennai</td>\n",
       "      <td>1535</td>\n",
       "      <td>No</td>\n",
       "      <td>Yes</td>\n",
       "    </tr>\n",
       "    <tr>\n",
       "      <th>1</th>\n",
       "      <td>Light Theme</td>\n",
       "      <td>0.113932</td>\n",
       "      <td>0.032973</td>\n",
       "      <td>0.732759</td>\n",
       "      <td>61.858568</td>\n",
       "      <td>19</td>\n",
       "      <td>Pune</td>\n",
       "      <td>303</td>\n",
       "      <td>No</td>\n",
       "      <td>Yes</td>\n",
       "    </tr>\n",
       "    <tr>\n",
       "      <th>2</th>\n",
       "      <td>Dark Theme</td>\n",
       "      <td>0.323352</td>\n",
       "      <td>0.178763</td>\n",
       "      <td>0.296543</td>\n",
       "      <td>45.737376</td>\n",
       "      <td>47</td>\n",
       "      <td>Chennai</td>\n",
       "      <td>563</td>\n",
       "      <td>Yes</td>\n",
       "      <td>Yes</td>\n",
       "    </tr>\n",
       "    <tr>\n",
       "      <th>3</th>\n",
       "      <td>Light Theme</td>\n",
       "      <td>0.485836</td>\n",
       "      <td>0.325225</td>\n",
       "      <td>0.245001</td>\n",
       "      <td>76.305298</td>\n",
       "      <td>58</td>\n",
       "      <td>Pune</td>\n",
       "      <td>385</td>\n",
       "      <td>Yes</td>\n",
       "      <td>No</td>\n",
       "    </tr>\n",
       "    <tr>\n",
       "      <th>4</th>\n",
       "      <td>Light Theme</td>\n",
       "      <td>0.034783</td>\n",
       "      <td>0.196766</td>\n",
       "      <td>0.765100</td>\n",
       "      <td>48.927407</td>\n",
       "      <td>25</td>\n",
       "      <td>New Delhi</td>\n",
       "      <td>1437</td>\n",
       "      <td>No</td>\n",
       "      <td>No</td>\n",
       "    </tr>\n",
       "  </tbody>\n",
       "</table>\n",
       "</div>"
      ],
      "text/plain": [
       "         Theme  Click Through Rate  Conversion Rate  Bounce Rate  \\\n",
       "0  Light Theme            0.054920         0.282367     0.405085   \n",
       "1  Light Theme            0.113932         0.032973     0.732759   \n",
       "2   Dark Theme            0.323352         0.178763     0.296543   \n",
       "3  Light Theme            0.485836         0.325225     0.245001   \n",
       "4  Light Theme            0.034783         0.196766     0.765100   \n",
       "\n",
       "   Scroll_Depth  Age   Location  Session_Duration Purchases Added_to_Cart  \n",
       "0     72.489458   25    Chennai              1535        No           Yes  \n",
       "1     61.858568   19       Pune               303        No           Yes  \n",
       "2     45.737376   47    Chennai               563       Yes           Yes  \n",
       "3     76.305298   58       Pune               385       Yes            No  \n",
       "4     48.927407   25  New Delhi              1437        No            No  "
      ]
     },
     "execution_count": 8,
     "metadata": {},
     "output_type": "execute_result"
    }
   ],
   "source": [
    "df.head()"
   ]
  },
  {
   "cell_type": "code",
   "execution_count": 10,
   "id": "13e0e351-f0ac-4a7b-aad8-02f13f5fb94c",
   "metadata": {},
   "outputs": [
    {
     "data": {
      "text/plain": [
       "(1000, 10)"
      ]
     },
     "execution_count": 10,
     "metadata": {},
     "output_type": "execute_result"
    }
   ],
   "source": [
    "df.shape"
   ]
  },
  {
   "cell_type": "code",
   "execution_count": 12,
   "id": "442d7ebf-cc0f-4f3e-bfc6-45c19bf25472",
   "metadata": {},
   "outputs": [
    {
     "data": {
      "text/plain": [
       "Theme                 0\n",
       "Click Through Rate    0\n",
       "Conversion Rate       0\n",
       "Bounce Rate           0\n",
       "Scroll_Depth          0\n",
       "Age                   0\n",
       "Location              0\n",
       "Session_Duration      0\n",
       "Purchases             0\n",
       "Added_to_Cart         0\n",
       "dtype: int64"
      ]
     },
     "execution_count": 12,
     "metadata": {},
     "output_type": "execute_result"
    }
   ],
   "source": [
    "df.isna().sum()"
   ]
  },
  {
   "cell_type": "code",
   "execution_count": 14,
   "id": "665e96f3-0516-4f21-830b-2490168e70e9",
   "metadata": {},
   "outputs": [
    {
     "data": {
      "text/html": [
       "<div>\n",
       "<style scoped>\n",
       "    .dataframe tbody tr th:only-of-type {\n",
       "        vertical-align: middle;\n",
       "    }\n",
       "\n",
       "    .dataframe tbody tr th {\n",
       "        vertical-align: top;\n",
       "    }\n",
       "\n",
       "    .dataframe thead th {\n",
       "        text-align: right;\n",
       "    }\n",
       "</style>\n",
       "<table border=\"1\" class=\"dataframe\">\n",
       "  <thead>\n",
       "    <tr style=\"text-align: right;\">\n",
       "      <th></th>\n",
       "      <th>Click Through Rate</th>\n",
       "      <th>Conversion Rate</th>\n",
       "      <th>Bounce Rate</th>\n",
       "      <th>Scroll_Depth</th>\n",
       "      <th>Age</th>\n",
       "      <th>Session_Duration</th>\n",
       "    </tr>\n",
       "  </thead>\n",
       "  <tbody>\n",
       "    <tr>\n",
       "      <th>count</th>\n",
       "      <td>1000.000000</td>\n",
       "      <td>1000.000000</td>\n",
       "      <td>1000.000000</td>\n",
       "      <td>1000.000000</td>\n",
       "      <td>1000.000000</td>\n",
       "      <td>1000.000000</td>\n",
       "    </tr>\n",
       "    <tr>\n",
       "      <th>mean</th>\n",
       "      <td>0.256048</td>\n",
       "      <td>0.253312</td>\n",
       "      <td>0.505758</td>\n",
       "      <td>50.319494</td>\n",
       "      <td>41.528000</td>\n",
       "      <td>924.999000</td>\n",
       "    </tr>\n",
       "    <tr>\n",
       "      <th>std</th>\n",
       "      <td>0.139265</td>\n",
       "      <td>0.139092</td>\n",
       "      <td>0.172195</td>\n",
       "      <td>16.895269</td>\n",
       "      <td>14.114334</td>\n",
       "      <td>508.231723</td>\n",
       "    </tr>\n",
       "    <tr>\n",
       "      <th>min</th>\n",
       "      <td>0.010767</td>\n",
       "      <td>0.010881</td>\n",
       "      <td>0.200720</td>\n",
       "      <td>20.011738</td>\n",
       "      <td>18.000000</td>\n",
       "      <td>38.000000</td>\n",
       "    </tr>\n",
       "    <tr>\n",
       "      <th>25%</th>\n",
       "      <td>0.140794</td>\n",
       "      <td>0.131564</td>\n",
       "      <td>0.353609</td>\n",
       "      <td>35.655167</td>\n",
       "      <td>29.000000</td>\n",
       "      <td>466.500000</td>\n",
       "    </tr>\n",
       "    <tr>\n",
       "      <th>50%</th>\n",
       "      <td>0.253715</td>\n",
       "      <td>0.252823</td>\n",
       "      <td>0.514049</td>\n",
       "      <td>51.130712</td>\n",
       "      <td>42.000000</td>\n",
       "      <td>931.000000</td>\n",
       "    </tr>\n",
       "    <tr>\n",
       "      <th>75%</th>\n",
       "      <td>0.370674</td>\n",
       "      <td>0.373040</td>\n",
       "      <td>0.648557</td>\n",
       "      <td>64.666258</td>\n",
       "      <td>54.000000</td>\n",
       "      <td>1375.250000</td>\n",
       "    </tr>\n",
       "    <tr>\n",
       "      <th>max</th>\n",
       "      <td>0.499989</td>\n",
       "      <td>0.498916</td>\n",
       "      <td>0.799658</td>\n",
       "      <td>79.997108</td>\n",
       "      <td>65.000000</td>\n",
       "      <td>1797.000000</td>\n",
       "    </tr>\n",
       "  </tbody>\n",
       "</table>\n",
       "</div>"
      ],
      "text/plain": [
       "       Click Through Rate  Conversion Rate  Bounce Rate  Scroll_Depth  \\\n",
       "count         1000.000000      1000.000000  1000.000000   1000.000000   \n",
       "mean             0.256048         0.253312     0.505758     50.319494   \n",
       "std              0.139265         0.139092     0.172195     16.895269   \n",
       "min              0.010767         0.010881     0.200720     20.011738   \n",
       "25%              0.140794         0.131564     0.353609     35.655167   \n",
       "50%              0.253715         0.252823     0.514049     51.130712   \n",
       "75%              0.370674         0.373040     0.648557     64.666258   \n",
       "max              0.499989         0.498916     0.799658     79.997108   \n",
       "\n",
       "               Age  Session_Duration  \n",
       "count  1000.000000       1000.000000  \n",
       "mean     41.528000        924.999000  \n",
       "std      14.114334        508.231723  \n",
       "min      18.000000         38.000000  \n",
       "25%      29.000000        466.500000  \n",
       "50%      42.000000        931.000000  \n",
       "75%      54.000000       1375.250000  \n",
       "max      65.000000       1797.000000  "
      ]
     },
     "execution_count": 14,
     "metadata": {},
     "output_type": "execute_result"
    }
   ],
   "source": [
    "df.describe()"
   ]
  },
  {
   "cell_type": "code",
   "execution_count": 63,
   "id": "8c32170f-0d8c-4857-a076-0960806fe05f",
   "metadata": {},
   "outputs": [
    {
     "data": {
      "text/html": [
       "<div>\n",
       "<style scoped>\n",
       "    .dataframe tbody tr th:only-of-type {\n",
       "        vertical-align: middle;\n",
       "    }\n",
       "\n",
       "    .dataframe tbody tr th {\n",
       "        vertical-align: top;\n",
       "    }\n",
       "\n",
       "    .dataframe thead th {\n",
       "        text-align: right;\n",
       "    }\n",
       "</style>\n",
       "<table border=\"1\" class=\"dataframe\">\n",
       "  <thead>\n",
       "    <tr style=\"text-align: right;\">\n",
       "      <th></th>\n",
       "      <th>Click Through Rate</th>\n",
       "      <th>Conversion Rate</th>\n",
       "      <th>Bounce Rate</th>\n",
       "      <th>Scroll_Depth</th>\n",
       "      <th>Age</th>\n",
       "      <th>Session_Duration</th>\n",
       "    </tr>\n",
       "    <tr>\n",
       "      <th>Theme</th>\n",
       "      <th></th>\n",
       "      <th></th>\n",
       "      <th></th>\n",
       "      <th></th>\n",
       "      <th></th>\n",
       "      <th></th>\n",
       "    </tr>\n",
       "  </thead>\n",
       "  <tbody>\n",
       "    <tr>\n",
       "      <th>Dark Theme</th>\n",
       "      <td>0.264501</td>\n",
       "      <td>0.251282</td>\n",
       "      <td>0.512115</td>\n",
       "      <td>49.926404</td>\n",
       "      <td>41.332685</td>\n",
       "      <td>919.482490</td>\n",
       "    </tr>\n",
       "    <tr>\n",
       "      <th>Light Theme</th>\n",
       "      <td>0.247109</td>\n",
       "      <td>0.255459</td>\n",
       "      <td>0.499035</td>\n",
       "      <td>50.735232</td>\n",
       "      <td>41.734568</td>\n",
       "      <td>930.833333</td>\n",
       "    </tr>\n",
       "  </tbody>\n",
       "</table>\n",
       "</div>"
      ],
      "text/plain": [
       "             Click Through Rate  Conversion Rate  Bounce Rate  Scroll_Depth  \\\n",
       "Theme                                                                         \n",
       "Dark Theme             0.264501         0.251282     0.512115     49.926404   \n",
       "Light Theme            0.247109         0.255459     0.499035     50.735232   \n",
       "\n",
       "                   Age  Session_Duration  \n",
       "Theme                                     \n",
       "Dark Theme   41.332685        919.482490  \n",
       "Light Theme  41.734568        930.833333  "
      ]
     },
     "execution_count": 63,
     "metadata": {},
     "output_type": "execute_result"
    }
   ],
   "source": [
    "# Grouping Data by Theme and calculating mean of metrics\n",
    "df_grouped = df.groupby('Theme').mean(numeric_only=True)\n",
    "df_grouped"
   ]
  },
  {
   "cell_type": "code",
   "execution_count": 78,
   "id": "d8f51d80-97e3-430b-9e08-6344e2c3364c",
   "metadata": {},
   "outputs": [
    {
     "data": {
      "text/plain": [
       "<Axes: >"
      ]
     },
     "execution_count": 78,
     "metadata": {},
     "output_type": "execute_result"
    },
    {
     "data": {
      "image/png": "[encoded data removed]",
      "text/plain": [
       "<Figure size 1000x600 with 1 Axes>"
      ]
     },
     "metadata": {},
     "output_type": "display_data"
    }
   ],
   "source": [
    "df_grouped[['Click Through Rate','Conversion Rate','Bounce Rate']].T.plot(kind='bar', figsize=(10, 6), colormap='viridis', width=0.8)"
   ]
  },
  {
   "cell_type": "code",
   "execution_count": 82,
   "id": "6404d43a-13d5-4627-8847-ce4064f82fc5",
   "metadata": {},
   "outputs": [
    {
     "data": {
      "text/plain": [
       "<Axes: >"
      ]
     },
     "execution_count": 82,
     "metadata": {},
     "output_type": "execute_result"
    },
    {
     "data": {
      "image/png": "[encoded data removed]",
      "text/plain": [
       "<Figure size 1000x600 with 1 Axes>"
      ]
     },
     "metadata": {},
     "output_type": "display_data"
    }
   ],
   "source": [
    "df_grouped[['Scroll_Depth']].T.plot(kind='bar', figsize=(10, 6), colormap='viridis', width=0.8)"
   ]
  },
  {
   "cell_type": "code",
   "execution_count": 84,
   "id": "d9bfacca-c30c-4829-803d-b82398b0a420",
   "metadata": {},
   "outputs": [
    {
     "data": {
      "text/plain": [
       "<Axes: >"
      ]
     },
     "execution_count": 84,
     "metadata": {},
     "output_type": "execute_result"
    },
    {
     "data": {
      "image/png": "[encoded data removed]",
      "text/plain": [
       "<Figure size 1000x600 with 1 Axes>"
      ]
     },
     "metadata": {},
     "output_type": "display_data"
    }
   ],
   "source": [
    "df_grouped[['Session_Duration']].T.plot(kind='bar', figsize=(10, 6), colormap='viridis', width=0.8)"
   ]
  },
  {
   "cell_type": "markdown",
   "id": "7bbd473f-d48e-4192-8995-01d5d6d61b92",
   "metadata": {},
   "source": [
    "### Click Through Rate (CTR):\n",
    "\n",
    "Dark Theme has a slightly higher CTR (26.45%) than Light Theme (24.71%), indicating users are more likely to click on elements in the Dark Theme.\n",
    "\n",
    "### Conversion Rate:\n",
    "\n",
    "Light Theme leads in conversion rate (25.55%) compared to Dark Theme (25.13%), suggesting that users interacting with the Light Theme are marginally more likely to complete desired actions.\n",
    "\n",
    "### Bounce Rate:\n",
    "\n",
    "Dark Theme has a higher bounce rate (51.21%) than Light Theme (49.90%), meaning a larger percentage of users leave without further interaction when using the Dark Theme.\n",
    "\n",
    "### Scroll Depth:\n",
    "\n",
    "Users scroll slightly more in the Light Theme (50.74%) compared to the Dark Theme (49.93%), implying greater content engagement.\n",
    "\n",
    "### Age:\n",
    "\n",
    "The average user age is very similar for both themes, with Light Theme users being slightly older (41.73 years) compared to Dark Theme users (41.33 years).\n",
    "\n",
    "### Session Duration:\n",
    "\n",
    "Session duration is slightly longer for Light Theme (930.83 seconds) than Dark Theme (919.48 seconds), showing marginally higher engagement with Light Theme."
   ]
  },
  {
   "cell_type": "markdown",
   "id": "6e9b6919-b658-49e8-a438-1dba89ee9d22",
   "metadata": {},
   "source": [
    "# Hypothesis Testing\n",
    "\n",
    "We’ll use a significance level (alpha) of 0.05 and a two-sample t-test for our hypothesis testing."
   ]
  },
  {
   "cell_type": "markdown",
   "id": "300f139c-dbef-4b10-9e13-46e8975b88a7",
   "metadata": {},
   "source": [
    "### Conversion Rate\n",
    "\n",
    "H0: There is no difference in Conversion Rates between the Light Theme and Dark Theme.\\\n",
    "H1: There is a difference in Conversion Rates between the Light Theme and Dark Theme."
   ]
  },
  {
   "cell_type": "code",
   "execution_count": 35,
   "id": "47b5c6da-f4b1-4164-bc32-09d4f3d39945",
   "metadata": {},
   "outputs": [
    {
     "data": {
      "text/plain": [
       "(0.4748494462782632, 0.6349982678451778)"
      ]
     },
     "execution_count": 35,
     "metadata": {},
     "output_type": "execute_result"
    }
   ],
   "source": [
    "# extracting conversion rates for both themes\n",
    "conversion_rates_light = df[df['Theme'] == 'Light Theme']['Conversion Rate']\n",
    "conversion_rates_dark = df[df['Theme'] == 'Dark Theme']['Conversion Rate']\n",
    "\n",
    "# performing two-sample t-test\n",
    "t_stat, p_value = ttest_ind(conversion_rates_light, conversion_rates_dark, equal_var=False)\n",
    "\n",
    "t_stat, p_value"
   ]
  },
  {
   "cell_type": "markdown",
   "id": "85a5c213-c7b1-444e-82bd-e0f6aa661993",
   "metadata": {},
   "source": [
    "Here our p value is 0.63 which is much greater than 0.05 and hence, we donot have enough statistical evidence to reject the null hypothesis. Therefore, we conclude that there is no statistically significant difference in Conversion Rates between the Light Theme and Dark Theme based on the data provided."
   ]
  },
  {
   "cell_type": "markdown",
   "id": "35cadee8-0e5d-4af4-acda-dd77edf3dd54",
   "metadata": {},
   "source": [
    "### Click Through Rate\n",
    "\n",
    "H0: There is no difference in Click Through Rates between the Light Theme and Dark Theme.\\\n",
    "H1: There is a difference in Click Through Rates between the Light Theme and Dark Theme."
   ]
  },
  {
   "cell_type": "code",
   "execution_count": 40,
   "id": "ff42c92f-6351-4da0-bbd7-9424bfa71365",
   "metadata": {},
   "outputs": [
    {
     "data": {
      "text/plain": [
       "(-1.9781708664172253, 0.04818435371010704)"
      ]
     },
     "execution_count": 40,
     "metadata": {},
     "output_type": "execute_result"
    }
   ],
   "source": [
    "# extracting click through rates for both themes\n",
    "click_through_rates_light = df[df['Theme'] == 'Light Theme']['Click Through Rate']\n",
    "click_through_rates_dark = df[df['Theme'] == 'Dark Theme']['Click Through Rate']\n",
    "\n",
    "# performing two-sample t-test\n",
    "t_stat, p_value = ttest_ind(click_through_rates_light, click_through_rates_dark, equal_var=False)\n",
    "\n",
    "t_stat, p_value"
   ]
  },
  {
   "cell_type": "markdown",
   "id": "540591e9-8540-498e-ba2a-e0e88efcf8d4",
   "metadata": {},
   "source": [
    "Here our p value is 0.048 which is less than 0.05 and hence, we have enough statistical evidence to reject the null hypothesis. Therefore, we conclude that there is a statistically significant difference in Click Through Rates between the Light Theme and Dark Theme, with the Click Through Rate of Dark Theme likely being higher"
   ]
  },
  {
   "cell_type": "markdown",
   "id": "248d9f90-dc46-4d87-9683-fe4cc50e5618",
   "metadata": {},
   "source": [
    "### Bounce Rate\n",
    "\n",
    "H0: There is no difference in Bounce Rates between the Light Theme and Dark Theme.\\\n",
    "H1: There is a difference in Bounce Rates between the Light Theme and Dark Theme."
   ]
  },
  {
   "cell_type": "code",
   "execution_count": 43,
   "id": "8da35732-019a-468f-a6b6-dc0db442260f",
   "metadata": {},
   "outputs": [
    {
     "data": {
      "text/plain": [
       "(-1.2018883310494073, 0.229692077505148)"
      ]
     },
     "execution_count": 43,
     "metadata": {},
     "output_type": "execute_result"
    }
   ],
   "source": [
    "# extracting bounce rates for both themes\n",
    "bounce_rates_light = df[df['Theme'] == 'Light Theme']['Bounce Rate']\n",
    "bounce_rates_dark = df[df['Theme'] == 'Dark Theme']['Bounce Rate']\n",
    "\n",
    "# performing two-sample t-test\n",
    "t_stat, p_value = ttest_ind(bounce_rates_light, bounce_rates_dark, equal_var=False)\n",
    "\n",
    "t_stat, p_value"
   ]
  },
  {
   "cell_type": "markdown",
   "id": "e14d8ea8-fdb7-492f-9f9b-132a991de794",
   "metadata": {},
   "source": [
    "Here our p value is 0.22 which is greater than 0.05 and hence, we donot have enough statistical evidence to reject the null hypothesis. Therefore, we conclude that there is no statistically significant difference in Bounce Rates between the Light Theme and Dark Theme based on the data provided."
   ]
  },
  {
   "cell_type": "markdown",
   "id": "7cdf5dc6-fa07-45dd-b0fd-b3f441472289",
   "metadata": {},
   "source": [
    "### Scroll Depth\n",
    "\n",
    "H0: There is no difference in Scroll depth between the Light Theme and Dark Theme.\\\n",
    "H1: There is a difference in Scroll depth between the Light Theme and Dark Theme."
   ]
  },
  {
   "cell_type": "code",
   "execution_count": 47,
   "id": "750196fa-22ea-4700-afe6-46c2bab8f21f",
   "metadata": {},
   "outputs": [
    {
     "data": {
      "text/plain": [
       "(0.7562277864140986, 0.4496919249484911)"
      ]
     },
     "execution_count": 47,
     "metadata": {},
     "output_type": "execute_result"
    }
   ],
   "source": [
    "# extracting bounce rates for both themes\n",
    "scroll_depth_light = df[df['Theme'] == 'Light Theme']['Scroll_Depth']\n",
    "scroll_depth_dark = df[df['Theme'] == 'Dark Theme']['Scroll_Depth']\n",
    "\n",
    "# performing two-sample t-test\n",
    "t_stat, p_value = ttest_ind(scroll_depth_light, scroll_depth_dark, equal_var=False)\n",
    "\n",
    "t_stat, p_value"
   ]
  },
  {
   "cell_type": "markdown",
   "id": "b71a5c85-0714-49ee-bb87-cadbb7e612c6",
   "metadata": {},
   "source": [
    "Here our p value is 0.44 which is much greater than 0.05 and hence, we donot have enough statistical evidence to reject the null hypothesis. Therefore, we conclude that there is no statistically significant difference in Scroll Depth between the Light Theme and Dark Theme based on the data provided."
   ]
  },
  {
   "cell_type": "markdown",
   "id": "7f60cd81-34e3-464d-b6ab-308353005e5e",
   "metadata": {},
   "source": [
    "# Conclusion\n",
    "\n",
    "The analysis of the A/B test comparing the performance of Light and Dark Themes revealed that both themes perform similarly across most key user engagement metrics. While the Dark Theme shows a slight advantage in encouraging users to click through, metrics like Conversion Rate, Bounce Rate, and Scroll Depth suggest that the choice of theme does not significantly influence overall user behavior.\n",
    "\n",
    "These findings highlight that user experience is not drastically affected by theme choice alone. To optimize engagement and conversion, efforts should focus on enhancing content quality, refining user interface elements, and providing personalized options for users to select their preferred theme. Additionally, periodic testing and monitoring of theme performance can ensure the design remains aligned with evolving user preferences."
   ]
  }
 ],
 "metadata": {
  "kernelspec": {
   "display_name": "Python 3 (ipykernel)",
   "language": "python",
   "name": "python3"
  },
  "language_info": {
   "codemirror_mode": {
    "name": "ipython",
    "version": 3
   },
   "file_extension": ".py",
   "mimetype": "text/x-python",
   "name": "python",
   "nbconvert_exporter": "python",
   "pygments_lexer": "ipython3",
   "version": "3.12.2"
  }
 },
 "nbformat": 4,
 "nbformat_minor": 5
}
